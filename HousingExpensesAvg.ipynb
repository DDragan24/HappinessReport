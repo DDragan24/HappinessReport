{
 "cells": [
  {
   "cell_type": "code",
   "execution_count": 1,
   "id": "96f5aca9",
   "metadata": {},
   "outputs": [],
   "source": [
    "import requests\n",
    "import numpy as np\n",
    "import json\n",
    "import pandas as pd\n",
    "from pprint import pprint\n",
    "\n",
    "from config import api_key\n",
    "from matplotlib import pyplot as plt"
   ]
  },
  {
   "cell_type": "code",
   "execution_count": 3,
   "id": "da599353",
   "metadata": {},
   "outputs": [
    {
     "name": "stdout",
     "output_type": "stream",
     "text": [
      "{'Results': {'series': [{'data': [{'footnotes': [{}],\n",
      "                                   'period': 'A01',\n",
      "                                   'periodName': 'Annual',\n",
      "                                   'value': '22624',\n",
      "                                   'year': '2021'},\n",
      "                                  {'footnotes': [{}],\n",
      "                                   'period': 'A01',\n",
      "                                   'periodName': 'Annual',\n",
      "                                   'value': '21417',\n",
      "                                   'year': '2020'},\n",
      "                                  {'footnotes': [{}],\n",
      "                                   'period': 'A01',\n",
      "                                   'periodName': 'Annual',\n",
      "                                   'value': '20679',\n",
      "                                   'year': '2019'},\n",
      "                                  {'footnotes': [{}],\n",
      "                                   'period': 'A01',\n",
      "                                   'periodName': 'Annual',\n",
      "                                   'value': '20091',\n",
      "                                   'year': '2018'},\n",
      "                                  {'footnotes': [{}],\n",
      "                                   'period': 'A01',\n",
      "                                   'periodName': 'Annual',\n",
      "                                   'value': '19884',\n",
      "                                   'year': '2017'},\n",
      "                                  {'footnotes': [{}],\n",
      "                                   'period': 'A01',\n",
      "                                   'periodName': 'Annual',\n",
      "                                   'value': '18886',\n",
      "                                   'year': '2016'},\n",
      "                                  {'footnotes': [{}],\n",
      "                                   'period': 'A01',\n",
      "                                   'periodName': 'Annual',\n",
      "                                   'value': '18409',\n",
      "                                   'year': '2015'},\n",
      "                                  {'footnotes': [{}],\n",
      "                                   'period': 'A01',\n",
      "                                   'periodName': 'Annual',\n",
      "                                   'value': '17798',\n",
      "                                   'year': '2014'},\n",
      "                                  {'footnotes': [{}],\n",
      "                                   'period': 'A01',\n",
      "                                   'periodName': 'Annual',\n",
      "                                   'value': '17148',\n",
      "                                   'year': '2013'},\n",
      "                                  {'footnotes': [{}],\n",
      "                                   'period': 'A01',\n",
      "                                   'periodName': 'Annual',\n",
      "                                   'value': '16887',\n",
      "                                   'year': '2012'}],\n",
      "                         'seriesID': 'CXUHOUSINGLB1701M'}]},\n",
      " 'message': ['Year range has been reduced to the system-allowed limit of 10 '\n",
      "             'years.'],\n",
      " 'responseTime': 189,\n",
      " 'status': 'REQUEST_SUCCEEDED'}\n"
     ]
    }
   ],
   "source": [
    "headers = {'Content-type': 'application/json'}\n",
    "data = json.dumps({\"seriesid\": ['CXUHOUSINGLB1701M'],\"startyear\":\"2012\", \"endyear\":\"2022\"})\n",
    "p = requests.post('https://api.bls.gov/publicAPI/v2/timeseries/data/', data=data, headers=headers)\n",
    "json_data = json.loads(p.text)\n",
    "pprint(json_data)"
   ]
  },
  {
   "cell_type": "code",
   "execution_count": 9,
   "id": "43ad0657",
   "metadata": {},
   "outputs": [
    {
     "data": {
      "text/html": [
       "<div>\n",
       "<style scoped>\n",
       "    .dataframe tbody tr th:only-of-type {\n",
       "        vertical-align: middle;\n",
       "    }\n",
       "\n",
       "    .dataframe tbody tr th {\n",
       "        vertical-align: top;\n",
       "    }\n",
       "\n",
       "    .dataframe thead th {\n",
       "        text-align: right;\n",
       "    }\n",
       "</style>\n",
       "<table border=\"1\" class=\"dataframe\">\n",
       "  <thead>\n",
       "    <tr style=\"text-align: right;\">\n",
       "      <th></th>\n",
       "      <th>year</th>\n",
       "      <th>value</th>\n",
       "    </tr>\n",
       "  </thead>\n",
       "  <tbody>\n",
       "    <tr>\n",
       "      <th>0</th>\n",
       "      <td>2021</td>\n",
       "      <td>22624</td>\n",
       "    </tr>\n",
       "    <tr>\n",
       "      <th>1</th>\n",
       "      <td>2020</td>\n",
       "      <td>21417</td>\n",
       "    </tr>\n",
       "    <tr>\n",
       "      <th>2</th>\n",
       "      <td>2019</td>\n",
       "      <td>20679</td>\n",
       "    </tr>\n",
       "    <tr>\n",
       "      <th>3</th>\n",
       "      <td>2018</td>\n",
       "      <td>20091</td>\n",
       "    </tr>\n",
       "    <tr>\n",
       "      <th>4</th>\n",
       "      <td>2017</td>\n",
       "      <td>19884</td>\n",
       "    </tr>\n",
       "    <tr>\n",
       "      <th>5</th>\n",
       "      <td>2016</td>\n",
       "      <td>18886</td>\n",
       "    </tr>\n",
       "    <tr>\n",
       "      <th>6</th>\n",
       "      <td>2015</td>\n",
       "      <td>18409</td>\n",
       "    </tr>\n",
       "    <tr>\n",
       "      <th>7</th>\n",
       "      <td>2014</td>\n",
       "      <td>17798</td>\n",
       "    </tr>\n",
       "    <tr>\n",
       "      <th>8</th>\n",
       "      <td>2013</td>\n",
       "      <td>17148</td>\n",
       "    </tr>\n",
       "    <tr>\n",
       "      <th>9</th>\n",
       "      <td>2012</td>\n",
       "      <td>16887</td>\n",
       "    </tr>\n",
       "  </tbody>\n",
       "</table>\n",
       "</div>"
      ],
      "text/plain": [
       "   year  value\n",
       "0  2021  22624\n",
       "1  2020  21417\n",
       "2  2019  20679\n",
       "3  2018  20091\n",
       "4  2017  19884\n",
       "5  2016  18886\n",
       "6  2015  18409\n",
       "7  2014  17798\n",
       "8  2013  17148\n",
       "9  2012  16887"
      ]
     },
     "execution_count": 9,
     "metadata": {},
     "output_type": "execute_result"
    }
   ],
   "source": [
    "for series in json_data['Results']['series']:\n",
    "    seriesid = series['seriesID']\n",
    "    for item in series['data']:\n",
    "        year = item['year']\n",
    "        period = item['period']\n",
    "        value = item['value']\n",
    "HousingDF = pd.DataFrame(series['data'])\n",
    "del HousingDF['period']\n",
    "del HousingDF['footnotes']\n",
    "del HousingDF['periodName']\n",
    "\n",
    "HousingDF"
   ]
  },
  {
   "cell_type": "code",
   "execution_count": 10,
   "id": "72fdeef1",
   "metadata": {},
   "outputs": [
    {
     "data": {
      "text/html": [
       "<div>\n",
       "<style scoped>\n",
       "    .dataframe tbody tr th:only-of-type {\n",
       "        vertical-align: middle;\n",
       "    }\n",
       "\n",
       "    .dataframe tbody tr th {\n",
       "        vertical-align: top;\n",
       "    }\n",
       "\n",
       "    .dataframe thead th {\n",
       "        text-align: right;\n",
       "    }\n",
       "</style>\n",
       "<table border=\"1\" class=\"dataframe\">\n",
       "  <thead>\n",
       "    <tr style=\"text-align: right;\">\n",
       "      <th></th>\n",
       "      <th>year</th>\n",
       "      <th>value</th>\n",
       "    </tr>\n",
       "  </thead>\n",
       "  <tbody>\n",
       "    <tr>\n",
       "      <th>9</th>\n",
       "      <td>2012</td>\n",
       "      <td>16887</td>\n",
       "    </tr>\n",
       "    <tr>\n",
       "      <th>8</th>\n",
       "      <td>2013</td>\n",
       "      <td>17148</td>\n",
       "    </tr>\n",
       "    <tr>\n",
       "      <th>7</th>\n",
       "      <td>2014</td>\n",
       "      <td>17798</td>\n",
       "    </tr>\n",
       "    <tr>\n",
       "      <th>6</th>\n",
       "      <td>2015</td>\n",
       "      <td>18409</td>\n",
       "    </tr>\n",
       "    <tr>\n",
       "      <th>5</th>\n",
       "      <td>2016</td>\n",
       "      <td>18886</td>\n",
       "    </tr>\n",
       "    <tr>\n",
       "      <th>4</th>\n",
       "      <td>2017</td>\n",
       "      <td>19884</td>\n",
       "    </tr>\n",
       "    <tr>\n",
       "      <th>3</th>\n",
       "      <td>2018</td>\n",
       "      <td>20091</td>\n",
       "    </tr>\n",
       "    <tr>\n",
       "      <th>2</th>\n",
       "      <td>2019</td>\n",
       "      <td>20679</td>\n",
       "    </tr>\n",
       "    <tr>\n",
       "      <th>1</th>\n",
       "      <td>2020</td>\n",
       "      <td>21417</td>\n",
       "    </tr>\n",
       "    <tr>\n",
       "      <th>0</th>\n",
       "      <td>2021</td>\n",
       "      <td>22624</td>\n",
       "    </tr>\n",
       "  </tbody>\n",
       "</table>\n",
       "</div>"
      ],
      "text/plain": [
       "   year  value\n",
       "9  2012  16887\n",
       "8  2013  17148\n",
       "7  2014  17798\n",
       "6  2015  18409\n",
       "5  2016  18886\n",
       "4  2017  19884\n",
       "3  2018  20091\n",
       "2  2019  20679\n",
       "1  2020  21417\n",
       "0  2021  22624"
      ]
     },
     "execution_count": 10,
     "metadata": {},
     "output_type": "execute_result"
    }
   ],
   "source": [
    "HousingDF.sort_values(by=['year'], inplace=True)\n",
    "HousingDF"
   ]
  },
  {
   "cell_type": "code",
   "execution_count": 11,
   "id": "a86228f4",
   "metadata": {},
   "outputs": [
    {
     "data": {
      "text/plain": [
       "year     object\n",
       "value     int32\n",
       "dtype: object"
      ]
     },
     "execution_count": 11,
     "metadata": {},
     "output_type": "execute_result"
    }
   ],
   "source": [
    "HousingDF['value'] = HousingDF['value'].astype(int)\n",
    "HousingDF.dtypes"
   ]
  },
  {
   "cell_type": "code",
   "execution_count": 13,
   "id": "6ca4cbcd",
   "metadata": {},
   "outputs": [
    {
     "data": {
      "image/png": "[encoded data removed]",
      "text/plain": [
       "<Figure size 640x480 with 1 Axes>"
      ]
     },
     "metadata": {},
     "output_type": "display_data"
    }
   ],
   "source": [
    "plt.title(\"Yearly AVG Housing Expenses\")\n",
    "plt.xlabel(\"Year\")\n",
    "plt.ylabel(\"Price ($)\")\n",
    "\n",
    "plt.plot(HousingDF['year'], HousingDF['value'])\n",
    "plt.yticks()\n",
    "plt.grid()\n",
    "plt.show()"
   ]
  },
  {
   "cell_type": "code",
   "execution_count": 14,
   "id": "98166612",
   "metadata": {},
   "outputs": [],
   "source": [
    "HousingDF.to_pickle('HousingDF.pkl')"
   ]
  },
  {
   "cell_type": "code",
   "execution_count": null,
   "id": "7dca81a6",
   "metadata": {},
   "outputs": [],
   "source": []
  }
 ],
 "metadata": {
  "kernelspec": {
   "display_name": "Python 3 (ipykernel)",
   "language": "python",
   "name": "python3"
  },
  "language_info": {
   "codemirror_mode": {
    "name": "ipython",
    "version": 3
   },
   "file_extension": ".py",
   "mimetype": "text/x-python",
   "name": "python",
   "nbconvert_exporter": "python",
   "pygments_lexer": "ipython3",
   "version": "3.11.7"
  }
 },
 "nbformat": 4,
 "nbformat_minor": 5
}
