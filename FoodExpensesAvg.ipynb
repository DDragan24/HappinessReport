{
 "cells": [
  {
   "cell_type": "code",
   "execution_count": 1,
   "id": "53de75e3",
   "metadata": {},
   "outputs": [],
   "source": [
    "import requests\n",
    "import numpy as np\n",
    "import json\n",
    "import pandas as pd\n",
    "from pprint import pprint\n",
    "\n",
    "from config import api_key\n",
    "from matplotlib import pyplot as plt"
   ]
  },
  {
   "cell_type": "code",
   "execution_count": 2,
   "id": "1b46824d",
   "metadata": {},
   "outputs": [
    {
     "name": "stdout",
     "output_type": "stream",
     "text": [
      "{'status': 'REQUEST_SUCCEEDED', 'responseTime': 249, 'message': ['No Data Available for Series CXUFOODTOTLLB0201M Year: 2023'], 'Results': {'series': [{'seriesID': 'CXUFOODTOTLLB0201M', 'data': [{'year': '2022', 'period': 'A01', 'periodName': 'Annual', 'latest': 'true', 'value': '9343', 'footnotes': [{}]}, {'year': '2021', 'period': 'A01', 'periodName': 'Annual', 'value': '8289', 'footnotes': [{}]}, {'year': '2020', 'period': 'A01', 'periodName': 'Annual', 'value': '7310', 'footnotes': [{}]}, {'year': '2019', 'period': 'A01', 'periodName': 'Annual', 'value': '8169', 'footnotes': [{}]}, {'year': '2018', 'period': 'A01', 'periodName': 'Annual', 'value': '7923', 'footnotes': [{}]}, {'year': '2017', 'period': 'A01', 'periodName': 'Annual', 'value': '7729', 'footnotes': [{}]}, {'year': '2016', 'period': 'A01', 'periodName': 'Annual', 'value': '7203', 'footnotes': [{}]}, {'year': '2015', 'period': 'A01', 'periodName': 'Annual', 'value': '7023', 'footnotes': [{}]}, {'year': '2014', 'period': 'A01', 'periodName': 'Annual', 'value': '6759', 'footnotes': [{}]}]}]}}\n"
     ]
    }
   ],
   "source": [
    "headers = {'Content-type': 'application/json'}\n",
    "data = json.dumps({\"seriesid\": ['CXUFOODTOTLLB0201M'],\"startyear\":\"2014\", \"endyear\":\"2023\"})\n",
    "p = requests.post('https://api.bls.gov/publicAPI/v2/timeseries/data/', data=data, headers=headers)\n",
    "json_data = json.loads(p.text)\n",
    "print(json_data)"
   ]
  },
  {
   "cell_type": "code",
   "execution_count": 3,
   "id": "1292a2e0",
   "metadata": {},
   "outputs": [
    {
     "name": "stdout",
     "output_type": "stream",
     "text": [
      "{'Results': {'series': [{'data': [{'footnotes': [{}],\n",
      "                                   'latest': 'true',\n",
      "                                   'period': 'A01',\n",
      "                                   'periodName': 'Annual',\n",
      "                                   'value': '9343',\n",
      "                                   'year': '2022'},\n",
      "                                  {'footnotes': [{}],\n",
      "                                   'period': 'A01',\n",
      "                                   'periodName': 'Annual',\n",
      "                                   'value': '8289',\n",
      "                                   'year': '2021'},\n",
      "                                  {'footnotes': [{}],\n",
      "                                   'period': 'A01',\n",
      "                                   'periodName': 'Annual',\n",
      "                                   'value': '7310',\n",
      "                                   'year': '2020'},\n",
      "                                  {'footnotes': [{}],\n",
      "                                   'period': 'A01',\n",
      "                                   'periodName': 'Annual',\n",
      "                                   'value': '8169',\n",
      "                                   'year': '2019'},\n",
      "                                  {'footnotes': [{}],\n",
      "                                   'period': 'A01',\n",
      "                                   'periodName': 'Annual',\n",
      "                                   'value': '7923',\n",
      "                                   'year': '2018'},\n",
      "                                  {'footnotes': [{}],\n",
      "                                   'period': 'A01',\n",
      "                                   'periodName': 'Annual',\n",
      "                                   'value': '7729',\n",
      "                                   'year': '2017'},\n",
      "                                  {'footnotes': [{}],\n",
      "                                   'period': 'A01',\n",
      "                                   'periodName': 'Annual',\n",
      "                                   'value': '7203',\n",
      "                                   'year': '2016'},\n",
      "                                  {'footnotes': [{}],\n",
      "                                   'period': 'A01',\n",
      "                                   'periodName': 'Annual',\n",
      "                                   'value': '7023',\n",
      "                                   'year': '2015'},\n",
      "                                  {'footnotes': [{}],\n",
      "                                   'period': 'A01',\n",
      "                                   'periodName': 'Annual',\n",
      "                                   'value': '6759',\n",
      "                                   'year': '2014'}],\n",
      "                         'seriesID': 'CXUFOODTOTLLB0201M'}]},\n",
      " 'message': ['No Data Available for Series CXUFOODTOTLLB0201M Year: 2023'],\n",
      " 'responseTime': 249,\n",
      " 'status': 'REQUEST_SUCCEEDED'}\n"
     ]
    }
   ],
   "source": [
    "for series in json_data['Results']['series']:\n",
    "    seriesid = series['seriesID']\n",
    "    for item in series['data']:\n",
    "        year = item['year']\n",
    "        period = item['period']\n",
    "        value = item['value']\n",
    "from pprint  import pprint\n",
    "pprint(json_data)"
   ]
  },
  {
   "cell_type": "code",
   "execution_count": 4,
   "id": "c5685aa6",
   "metadata": {},
   "outputs": [
    {
     "data": {
      "text/html": [
       "<div>\n",
       "<style scoped>\n",
       "    .dataframe tbody tr th:only-of-type {\n",
       "        vertical-align: middle;\n",
       "    }\n",
       "\n",
       "    .dataframe tbody tr th {\n",
       "        vertical-align: top;\n",
       "    }\n",
       "\n",
       "    .dataframe thead th {\n",
       "        text-align: right;\n",
       "    }\n",
       "</style>\n",
       "<table border=\"1\" class=\"dataframe\">\n",
       "  <thead>\n",
       "    <tr style=\"text-align: right;\">\n",
       "      <th></th>\n",
       "      <th>year</th>\n",
       "      <th>value</th>\n",
       "    </tr>\n",
       "  </thead>\n",
       "  <tbody>\n",
       "    <tr>\n",
       "      <th>0</th>\n",
       "      <td>2022</td>\n",
       "      <td>9343</td>\n",
       "    </tr>\n",
       "    <tr>\n",
       "      <th>1</th>\n",
       "      <td>2021</td>\n",
       "      <td>8289</td>\n",
       "    </tr>\n",
       "    <tr>\n",
       "      <th>2</th>\n",
       "      <td>2020</td>\n",
       "      <td>7310</td>\n",
       "    </tr>\n",
       "    <tr>\n",
       "      <th>3</th>\n",
       "      <td>2019</td>\n",
       "      <td>8169</td>\n",
       "    </tr>\n",
       "    <tr>\n",
       "      <th>4</th>\n",
       "      <td>2018</td>\n",
       "      <td>7923</td>\n",
       "    </tr>\n",
       "    <tr>\n",
       "      <th>5</th>\n",
       "      <td>2017</td>\n",
       "      <td>7729</td>\n",
       "    </tr>\n",
       "    <tr>\n",
       "      <th>6</th>\n",
       "      <td>2016</td>\n",
       "      <td>7203</td>\n",
       "    </tr>\n",
       "    <tr>\n",
       "      <th>7</th>\n",
       "      <td>2015</td>\n",
       "      <td>7023</td>\n",
       "    </tr>\n",
       "    <tr>\n",
       "      <th>8</th>\n",
       "      <td>2014</td>\n",
       "      <td>6759</td>\n",
       "    </tr>\n",
       "  </tbody>\n",
       "</table>\n",
       "</div>"
      ],
      "text/plain": [
       "   year value\n",
       "0  2022  9343\n",
       "1  2021  8289\n",
       "2  2020  7310\n",
       "3  2019  8169\n",
       "4  2018  7923\n",
       "5  2017  7729\n",
       "6  2016  7203\n",
       "7  2015  7023\n",
       "8  2014  6759"
      ]
     },
     "execution_count": 4,
     "metadata": {},
     "output_type": "execute_result"
    }
   ],
   "source": [
    "# create DataFrame to hold values\n",
    "SpendDF = pd.DataFrame(series['data'])\n",
    "del SpendDF['period']\n",
    "del SpendDF['latest']\n",
    "del SpendDF['footnotes']\n",
    "del SpendDF['periodName']\n",
    "\n",
    "\n",
    "SpendDF"
   ]
  },
  {
   "cell_type": "code",
   "execution_count": 5,
   "id": "ce4d6fc4",
   "metadata": {},
   "outputs": [
    {
     "data": {
      "text/html": [
       "<div>\n",
       "<style scoped>\n",
       "    .dataframe tbody tr th:only-of-type {\n",
       "        vertical-align: middle;\n",
       "    }\n",
       "\n",
       "    .dataframe tbody tr th {\n",
       "        vertical-align: top;\n",
       "    }\n",
       "\n",
       "    .dataframe thead th {\n",
       "        text-align: right;\n",
       "    }\n",
       "</style>\n",
       "<table border=\"1\" class=\"dataframe\">\n",
       "  <thead>\n",
       "    <tr style=\"text-align: right;\">\n",
       "      <th></th>\n",
       "      <th>year</th>\n",
       "      <th>value</th>\n",
       "    </tr>\n",
       "  </thead>\n",
       "  <tbody>\n",
       "    <tr>\n",
       "      <th>8</th>\n",
       "      <td>2014</td>\n",
       "      <td>6759</td>\n",
       "    </tr>\n",
       "    <tr>\n",
       "      <th>7</th>\n",
       "      <td>2015</td>\n",
       "      <td>7023</td>\n",
       "    </tr>\n",
       "    <tr>\n",
       "      <th>6</th>\n",
       "      <td>2016</td>\n",
       "      <td>7203</td>\n",
       "    </tr>\n",
       "    <tr>\n",
       "      <th>5</th>\n",
       "      <td>2017</td>\n",
       "      <td>7729</td>\n",
       "    </tr>\n",
       "    <tr>\n",
       "      <th>4</th>\n",
       "      <td>2018</td>\n",
       "      <td>7923</td>\n",
       "    </tr>\n",
       "    <tr>\n",
       "      <th>3</th>\n",
       "      <td>2019</td>\n",
       "      <td>8169</td>\n",
       "    </tr>\n",
       "    <tr>\n",
       "      <th>2</th>\n",
       "      <td>2020</td>\n",
       "      <td>7310</td>\n",
       "    </tr>\n",
       "    <tr>\n",
       "      <th>1</th>\n",
       "      <td>2021</td>\n",
       "      <td>8289</td>\n",
       "    </tr>\n",
       "    <tr>\n",
       "      <th>0</th>\n",
       "      <td>2022</td>\n",
       "      <td>9343</td>\n",
       "    </tr>\n",
       "  </tbody>\n",
       "</table>\n",
       "</div>"
      ],
      "text/plain": [
       "   year value\n",
       "8  2014  6759\n",
       "7  2015  7023\n",
       "6  2016  7203\n",
       "5  2017  7729\n",
       "4  2018  7923\n",
       "3  2019  8169\n",
       "2  2020  7310\n",
       "1  2021  8289\n",
       "0  2022  9343"
      ]
     },
     "execution_count": 5,
     "metadata": {},
     "output_type": "execute_result"
    }
   ],
   "source": [
    "SpendDF.sort_values(by=['year'], inplace=True)\n",
    "SpendDF"
   ]
  },
  {
   "cell_type": "code",
   "execution_count": 6,
   "id": "a811122b",
   "metadata": {},
   "outputs": [
    {
     "data": {
      "text/plain": [
       "year     object\n",
       "value     int32\n",
       "dtype: object"
      ]
     },
     "execution_count": 6,
     "metadata": {},
     "output_type": "execute_result"
    }
   ],
   "source": [
    "SpendDF['value'] = SpendDF['value'].astype(int)\n",
    "SpendDF.dtypes"
   ]
  },
  {
   "cell_type": "code",
   "execution_count": 7,
   "id": "9ff5cdab",
   "metadata": {},
   "outputs": [
    {
     "data": {
      "image/png": "[encoded data removed]",
      "text/plain": [
       "<Figure size 640x480 with 1 Axes>"
      ]
     },
     "metadata": {},
     "output_type": "display_data"
    }
   ],
   "source": [
    "plt.title(\"Yearly Amount Spent on Food by American\")\n",
    "plt.xlabel(\"Year\")\n",
    "plt.ylabel(\"Price ($)\")\n",
    "\n",
    "plt.plot(SpendDF['year'], SpendDF['value'])\n",
    "plt.yticks()\n",
    "plt.grid()\n",
    "plt.show()"
   ]
  },
  {
   "cell_type": "code",
   "execution_count": 8,
   "id": "0103a2af",
   "metadata": {},
   "outputs": [],
   "source": [
    "SpendDF.to_pickle('SpendDF.pkl')"
   ]
  },
  {
   "cell_type": "code",
   "execution_count": null,
   "id": "f1ee95d8",
   "metadata": {},
   "outputs": [],
   "source": []
  }
 ],
 "metadata": {
  "kernelspec": {
   "display_name": "Python 3 (ipykernel)",
   "language": "python",
   "name": "python3"
  },
  "language_info": {
   "codemirror_mode": {
    "name": "ipython",
    "version": 3
   },
   "file_extension": ".py",
   "mimetype": "text/x-python",
   "name": "python",
   "nbconvert_exporter": "python",
   "pygments_lexer": "ipython3",
   "version": "3.11.7"
  }
 },
 "nbformat": 4,
 "nbformat_minor": 5
}
