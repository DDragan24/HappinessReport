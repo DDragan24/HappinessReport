{
 "cells": [
  {
   "cell_type": "code",
   "execution_count": 1,
   "id": "398241f1",
   "metadata": {},
   "outputs": [],
   "source": [
    "import requests\n",
    "import numpy as np\n",
    "import json\n",
    "import pandas as pd\n",
    "from pprint import pprint\n",
    "\n",
    "from config import api_key\n",
    "from matplotlib import pyplot as plt"
   ]
  },
  {
   "cell_type": "code",
   "execution_count": 3,
   "id": "f1951288",
   "metadata": {},
   "outputs": [
    {
     "name": "stdout",
     "output_type": "stream",
     "text": [
      "{'Results': {'series': [{'data': [{'footnotes': [{}],\n",
      "                                   'latest': 'true',\n",
      "                                   'period': 'A01',\n",
      "                                   'periodName': 'Annual',\n",
      "                                   'value': '3458',\n",
      "                                   'year': '2022'},\n",
      "                                  {'footnotes': [{}],\n",
      "                                   'period': 'A01',\n",
      "                                   'periodName': 'Annual',\n",
      "                                   'value': '3568',\n",
      "                                   'year': '2021'},\n",
      "                                  {'footnotes': [{}],\n",
      "                                   'period': 'A01',\n",
      "                                   'periodName': 'Annual',\n",
      "                                   'value': '2909',\n",
      "                                   'year': '2020'},\n",
      "                                  {'footnotes': [{}],\n",
      "                                   'period': 'A01',\n",
      "                                   'periodName': 'Annual',\n",
      "                                   'value': '3090',\n",
      "                                   'year': '2019'},\n",
      "                                  {'footnotes': [{}],\n",
      "                                   'period': 'A01',\n",
      "                                   'periodName': 'Annual',\n",
      "                                   'value': '3226',\n",
      "                                   'year': '2018'},\n",
      "                                  {'footnotes': [{}],\n",
      "                                   'period': 'A01',\n",
      "                                   'periodName': 'Annual',\n",
      "                                   'value': '3203',\n",
      "                                   'year': '2017'},\n",
      "                                  {'footnotes': [{}],\n",
      "                                   'period': 'A01',\n",
      "                                   'periodName': 'Annual',\n",
      "                                   'value': '2913',\n",
      "                                   'year': '2016'},\n",
      "                                  {'footnotes': [{}],\n",
      "                                   'period': 'A01',\n",
      "                                   'periodName': 'Annual',\n",
      "                                   'value': '2842',\n",
      "                                   'year': '2015'},\n",
      "                                  {'footnotes': [{}],\n",
      "                                   'period': 'A01',\n",
      "                                   'periodName': 'Annual',\n",
      "                                   'value': '2728',\n",
      "                                   'year': '2014'},\n",
      "                                  {'footnotes': [{}],\n",
      "                                   'period': 'A01',\n",
      "                                   'periodName': 'Annual',\n",
      "                                   'value': '2482',\n",
      "                                   'year': '2013'}],\n",
      "                         'seriesID': 'CXUENTRTAINLB0201M'}]},\n",
      " 'message': [],\n",
      " 'responseTime': 170,\n",
      " 'status': 'REQUEST_SUCCEEDED'}\n"
     ]
    }
   ],
   "source": [
    "headers = {'Content-type': 'application/json'}\n",
    "data = json.dumps({\"seriesid\": ['CXUENTRTAINLB0201M'],\"startyear\":\"2013\", \"endyear\":\"2022\"})\n",
    "p = requests.post('https://api.bls.gov/publicAPI/v2/timeseries/data/', data=data, headers=headers)\n",
    "json_data = json.loads(p.text)\n",
    "pprint(json_data)"
   ]
  },
  {
   "cell_type": "code",
   "execution_count": 5,
   "id": "cf522a5c",
   "metadata": {},
   "outputs": [
    {
     "data": {
      "text/html": [
       "<div>\n",
       "<style scoped>\n",
       "    .dataframe tbody tr th:only-of-type {\n",
       "        vertical-align: middle;\n",
       "    }\n",
       "\n",
       "    .dataframe tbody tr th {\n",
       "        vertical-align: top;\n",
       "    }\n",
       "\n",
       "    .dataframe thead th {\n",
       "        text-align: right;\n",
       "    }\n",
       "</style>\n",
       "<table border=\"1\" class=\"dataframe\">\n",
       "  <thead>\n",
       "    <tr style=\"text-align: right;\">\n",
       "      <th></th>\n",
       "      <th>year</th>\n",
       "      <th>value</th>\n",
       "    </tr>\n",
       "  </thead>\n",
       "  <tbody>\n",
       "    <tr>\n",
       "      <th>0</th>\n",
       "      <td>2022</td>\n",
       "      <td>3458</td>\n",
       "    </tr>\n",
       "    <tr>\n",
       "      <th>1</th>\n",
       "      <td>2021</td>\n",
       "      <td>3568</td>\n",
       "    </tr>\n",
       "    <tr>\n",
       "      <th>2</th>\n",
       "      <td>2020</td>\n",
       "      <td>2909</td>\n",
       "    </tr>\n",
       "    <tr>\n",
       "      <th>3</th>\n",
       "      <td>2019</td>\n",
       "      <td>3090</td>\n",
       "    </tr>\n",
       "    <tr>\n",
       "      <th>4</th>\n",
       "      <td>2018</td>\n",
       "      <td>3226</td>\n",
       "    </tr>\n",
       "    <tr>\n",
       "      <th>5</th>\n",
       "      <td>2017</td>\n",
       "      <td>3203</td>\n",
       "    </tr>\n",
       "    <tr>\n",
       "      <th>6</th>\n",
       "      <td>2016</td>\n",
       "      <td>2913</td>\n",
       "    </tr>\n",
       "    <tr>\n",
       "      <th>7</th>\n",
       "      <td>2015</td>\n",
       "      <td>2842</td>\n",
       "    </tr>\n",
       "    <tr>\n",
       "      <th>8</th>\n",
       "      <td>2014</td>\n",
       "      <td>2728</td>\n",
       "    </tr>\n",
       "    <tr>\n",
       "      <th>9</th>\n",
       "      <td>2013</td>\n",
       "      <td>2482</td>\n",
       "    </tr>\n",
       "  </tbody>\n",
       "</table>\n",
       "</div>"
      ],
      "text/plain": [
       "   year value\n",
       "0  2022  3458\n",
       "1  2021  3568\n",
       "2  2020  2909\n",
       "3  2019  3090\n",
       "4  2018  3226\n",
       "5  2017  3203\n",
       "6  2016  2913\n",
       "7  2015  2842\n",
       "8  2014  2728\n",
       "9  2013  2482"
      ]
     },
     "execution_count": 5,
     "metadata": {},
     "output_type": "execute_result"
    }
   ],
   "source": [
    "for series in json_data['Results']['series']:\n",
    "    seriesid = series['seriesID']\n",
    "    for item in series['data']:\n",
    "        year = item['year']\n",
    "        period = item['period']\n",
    "        value = item['value']\n",
    "EntertainDF = pd.DataFrame(series['data'])\n",
    "del EntertainDF['period']\n",
    "del EntertainDF['latest']\n",
    "del EntertainDF['footnotes']\n",
    "del EntertainDF['periodName']\n",
    "\n",
    "EntertainDF"
   ]
  },
  {
   "cell_type": "code",
   "execution_count": 6,
   "id": "25d44cd5",
   "metadata": {},
   "outputs": [
    {
     "data": {
      "text/html": [
       "<div>\n",
       "<style scoped>\n",
       "    .dataframe tbody tr th:only-of-type {\n",
       "        vertical-align: middle;\n",
       "    }\n",
       "\n",
       "    .dataframe tbody tr th {\n",
       "        vertical-align: top;\n",
       "    }\n",
       "\n",
       "    .dataframe thead th {\n",
       "        text-align: right;\n",
       "    }\n",
       "</style>\n",
       "<table border=\"1\" class=\"dataframe\">\n",
       "  <thead>\n",
       "    <tr style=\"text-align: right;\">\n",
       "      <th></th>\n",
       "      <th>year</th>\n",
       "      <th>value</th>\n",
       "    </tr>\n",
       "  </thead>\n",
       "  <tbody>\n",
       "    <tr>\n",
       "      <th>9</th>\n",
       "      <td>2013</td>\n",
       "      <td>2482</td>\n",
       "    </tr>\n",
       "    <tr>\n",
       "      <th>8</th>\n",
       "      <td>2014</td>\n",
       "      <td>2728</td>\n",
       "    </tr>\n",
       "    <tr>\n",
       "      <th>7</th>\n",
       "      <td>2015</td>\n",
       "      <td>2842</td>\n",
       "    </tr>\n",
       "    <tr>\n",
       "      <th>6</th>\n",
       "      <td>2016</td>\n",
       "      <td>2913</td>\n",
       "    </tr>\n",
       "    <tr>\n",
       "      <th>5</th>\n",
       "      <td>2017</td>\n",
       "      <td>3203</td>\n",
       "    </tr>\n",
       "    <tr>\n",
       "      <th>4</th>\n",
       "      <td>2018</td>\n",
       "      <td>3226</td>\n",
       "    </tr>\n",
       "    <tr>\n",
       "      <th>3</th>\n",
       "      <td>2019</td>\n",
       "      <td>3090</td>\n",
       "    </tr>\n",
       "    <tr>\n",
       "      <th>2</th>\n",
       "      <td>2020</td>\n",
       "      <td>2909</td>\n",
       "    </tr>\n",
       "    <tr>\n",
       "      <th>1</th>\n",
       "      <td>2021</td>\n",
       "      <td>3568</td>\n",
       "    </tr>\n",
       "    <tr>\n",
       "      <th>0</th>\n",
       "      <td>2022</td>\n",
       "      <td>3458</td>\n",
       "    </tr>\n",
       "  </tbody>\n",
       "</table>\n",
       "</div>"
      ],
      "text/plain": [
       "   year value\n",
       "9  2013  2482\n",
       "8  2014  2728\n",
       "7  2015  2842\n",
       "6  2016  2913\n",
       "5  2017  3203\n",
       "4  2018  3226\n",
       "3  2019  3090\n",
       "2  2020  2909\n",
       "1  2021  3568\n",
       "0  2022  3458"
      ]
     },
     "execution_count": 6,
     "metadata": {},
     "output_type": "execute_result"
    }
   ],
   "source": [
    "EntertainDF.sort_values(by=['year'], inplace=True)\n",
    "EntertainDF"
   ]
  },
  {
   "cell_type": "code",
   "execution_count": 8,
   "id": "5f0b137f",
   "metadata": {},
   "outputs": [
    {
     "data": {
      "text/plain": [
       "year     object\n",
       "value     int32\n",
       "dtype: object"
      ]
     },
     "execution_count": 8,
     "metadata": {},
     "output_type": "execute_result"
    }
   ],
   "source": [
    "EntertainDF['value'] = EntertainDF['value'].astype(int)\n",
    "EntertainDF.dtypes"
   ]
  },
  {
   "cell_type": "code",
   "execution_count": 9,
   "id": "715f57c1",
   "metadata": {},
   "outputs": [
    {
     "data": {
      "image/png": "[encoded data removed]",
      "text/plain": [
       "<Figure size 640x480 with 1 Axes>"
      ]
     },
     "metadata": {},
     "output_type": "display_data"
    }
   ],
   "source": [
    "plt.title(\"Yearly AVG Entertainment Expenses\")\n",
    "plt.xlabel(\"Year\")\n",
    "plt.ylabel(\"Price ($)\")\n",
    "\n",
    "plt.plot(EntertainDF['year'], EntertainDF['value'])\n",
    "plt.yticks()\n",
    "plt.grid()\n",
    "plt.show()"
   ]
  },
  {
   "cell_type": "code",
   "execution_count": 10,
   "id": "3d20536d",
   "metadata": {},
   "outputs": [],
   "source": [
    "EntertainDF.to_pickle('EntertainDF.pkl')"
   ]
  },
  {
   "cell_type": "code",
   "execution_count": null,
   "id": "ae3886e6",
   "metadata": {},
   "outputs": [],
   "source": []
  }
 ],
 "metadata": {
  "kernelspec": {
   "display_name": "Python 3 (ipykernel)",
   "language": "python",
   "name": "python3"
  },
  "language_info": {
   "codemirror_mode": {
    "name": "ipython",
    "version": 3
   },
   "file_extension": ".py",
   "mimetype": "text/x-python",
   "name": "python",
   "nbconvert_exporter": "python",
   "pygments_lexer": "ipython3",
   "version": "3.11.7"
  }
 },
 "nbformat": 4,
 "nbformat_minor": 5
}
